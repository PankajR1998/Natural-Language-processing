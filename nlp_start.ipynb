{
 "cells": [
  {
   "cell_type": "code",
   "execution_count": 1,
   "metadata": {},
   "outputs": [
    {
     "name": "stdout",
     "output_type": "stream",
     "text": [
      "Collecting nltk\n",
      "  Downloading nltk-3.8.1-py3-none-any.whl (1.5 MB)\n",
      "     ---------------------------------------- 0.0/1.5 MB ? eta -:--:--\n",
      "      --------------------------------------- 0.0/1.5 MB ? eta -:--:--\n",
      "     -- ------------------------------------- 0.1/1.5 MB 1.1 MB/s eta 0:00:02\n",
      "     --- ------------------------------------ 0.1/1.5 MB 1.2 MB/s eta 0:00:02\n",
      "     ----- ---------------------------------- 0.2/1.5 MB 1.3 MB/s eta 0:00:01\n",
      "     ------- -------------------------------- 0.3/1.5 MB 1.3 MB/s eta 0:00:01\n",
      "     ------- -------------------------------- 0.3/1.5 MB 1.3 MB/s eta 0:00:01\n",
      "     ------- -------------------------------- 0.3/1.5 MB 1.3 MB/s eta 0:00:01\n",
      "     ------- -------------------------------- 0.3/1.5 MB 1.3 MB/s eta 0:00:01\n",
      "     --------- ------------------------------ 0.3/1.5 MB 832.3 kB/s eta 0:00:02\n",
      "     --------- ------------------------------ 0.4/1.5 MB 849.3 kB/s eta 0:00:02\n",
      "     --------- ------------------------------ 0.4/1.5 MB 849.3 kB/s eta 0:00:02\n",
      "     ----------- ---------------------------- 0.5/1.5 MB 805.0 kB/s eta 0:00:02\n",
      "     ------------- -------------------------- 0.5/1.5 MB 898.6 kB/s eta 0:00:02\n",
      "     --------------- ------------------------ 0.6/1.5 MB 941.6 kB/s eta 0:00:01\n",
      "     --------------- ------------------------ 0.6/1.5 MB 941.6 kB/s eta 0:00:01\n",
      "     ------------------ --------------------- 0.7/1.5 MB 941.3 kB/s eta 0:00:01\n",
      "     ------------------- -------------------- 0.7/1.5 MB 969.4 kB/s eta 0:00:01\n",
      "     --------------------- ------------------ 0.8/1.5 MB 1.0 MB/s eta 0:00:01\n",
      "     --------------------------- ------------ 1.0/1.5 MB 1.2 MB/s eta 0:00:01\n",
      "     ------------------------------------ --- 1.4/1.5 MB 1.5 MB/s eta 0:00:01\n",
      "     ---------------------------------------- 1.5/1.5 MB 1.6 MB/s eta 0:00:00\n",
      "Collecting click (from nltk)\n",
      "  Using cached click-8.1.7-py3-none-any.whl.metadata (3.0 kB)\n",
      "Requirement already satisfied: joblib in c:\\users\\rawat\\appdata\\local\\packages\\pythonsoftwarefoundation.python.3.11_qbz5n2kfra8p0\\localcache\\local-packages\\python311\\site-packages (from nltk) (1.1.1)\n",
      "Collecting regex>=2021.8.3 (from nltk)\n",
      "  Downloading regex-2023.12.25-cp311-cp311-win_amd64.whl.metadata (41 kB)\n",
      "     ---------------------------------------- 0.0/42.0 kB ? eta -:--:--\n",
      "     ---------------------------------------- 42.0/42.0 kB 2.0 MB/s eta 0:00:00\n",
      "Requirement already satisfied: tqdm in c:\\users\\rawat\\appdata\\local\\packages\\pythonsoftwarefoundation.python.3.11_qbz5n2kfra8p0\\localcache\\local-packages\\python311\\site-packages (from nltk) (4.66.1)\n",
      "Requirement already satisfied: colorama in c:\\users\\rawat\\appdata\\local\\packages\\pythonsoftwarefoundation.python.3.11_qbz5n2kfra8p0\\localcache\\local-packages\\python311\\site-packages (from click->nltk) (0.4.6)\n",
      "Downloading regex-2023.12.25-cp311-cp311-win_amd64.whl (269 kB)\n",
      "   ---------------------------------------- 0.0/269.5 kB ? eta -:--:--\n",
      "   ------------------------ --------------- 163.8/269.5 kB 9.6 MB/s eta 0:00:01\n",
      "   ---------------------------------------- 269.5/269.5 kB 4.1 MB/s eta 0:00:00\n",
      "Using cached click-8.1.7-py3-none-any.whl (97 kB)\n",
      "Installing collected packages: regex, click, nltk\n",
      "Successfully installed click-8.1.7 nltk-3.8.1 regex-2023.12.25\n"
     ]
    },
    {
     "name": "stderr",
     "output_type": "stream",
     "text": [
      "\n",
      "[notice] A new release of pip is available: 23.3.1 -> 23.3.2\n",
      "[notice] To update, run: C:\\Users\\rawat\\AppData\\Local\\Microsoft\\WindowsApps\\PythonSoftwareFoundation.Python.3.11_qbz5n2kfra8p0\\python.exe -m pip install --upgrade pip\n"
     ]
    }
   ],
   "source": [
    "!pip install nltk"
   ]
  },
  {
   "cell_type": "code",
   "execution_count": 2,
   "metadata": {},
   "outputs": [],
   "source": [
    "paragraph = \"\"\"Narendra Damodardas Modi (Gujarati: [ˈnəɾendɾə dɑmodəɾˈdɑs ˈmodiː] ⓘ; born 17 September 1950)[b] is an Indian politician who has served as the 14th prime minister of India since May 2014. Modi was the chief minister of Gujarat from 2001 to 2014 and is the Member of Parliament (MP) for Varanasi. He is a member of the Bharatiya Janata Party (BJP) and of the Rashtriya Swayamsevak Sangh (RSS), a right wing Hindu nationalist paramilitary volunteer organisation. He is the longest-serving prime minister from outside the Indian National Congress.\n",
    "\n",
    "Modi was born and raised in Vadnagar in northeastern Gujarat, where he completed his secondary education. He was introduced to the RSS at the age of eight. His account of helping his father sell tea at the Vadnagar railway station has not been reliably corroborated. At age 18, he was married to Jashodaben Modi, whom he abandoned soon after, only publicly acknowledging her four decades later when legally required to do so. Modi became a full-time worker for the RSS in Gujarat in 1971. The RSS assigned him to the BJP in 1985 and he held several positions within the party hierarchy until 2001, rising to the rank of general secretary.[c]\"\"\""
   ]
  },
  {
   "cell_type": "code",
   "execution_count": 5,
   "metadata": {},
   "outputs": [
    {
     "name": "stdout",
     "output_type": "stream",
     "text": [
      "Narendra Damodardas Modi (Gujarati: [ˈnəɾendɾə dɑmodəɾˈdɑs ˈmodiː] ⓘ; born 17 September 1950)[b] is an Indian politician who has served as the 14th prime minister of India since May 2014. Modi was the chief minister of Gujarat from 2001 to 2014 and is the Member of Parliament (MP) for Varanasi. He is a member of the Bharatiya Janata Party (BJP) and of the Rashtriya Swayamsevak Sangh (RSS), a right wing Hindu nationalist paramilitary volunteer organisation. He is the longest-serving prime minister from outside the Indian National Congress.\n",
      "\n",
      "Modi was born and raised in Vadnagar in northeastern Gujarat, where he completed his secondary education. He was introduced to the RSS at the age of eight. His account of helping his father sell tea at the Vadnagar railway station has not been reliably corroborated. At age 18, he was married to Jashodaben Modi, whom he abandoned soon after, only publicly acknowledging her four decades later when legally required to do so. Modi became a full-time worker for the RSS in Gujarat in 1971. The RSS assigned him to the BJP in 1985 and he held several positions within the party hierarchy until 2001, rising to the rank of general secretary.[c]\n"
     ]
    }
   ],
   "source": [
    "print(paragraph)"
   ]
  },
  {
   "cell_type": "code",
   "execution_count": 6,
   "metadata": {},
   "outputs": [],
   "source": [
    "import nltk\n",
    "from nltk.stem import PorterStemmer\n",
    "from nltk.corpus import stopwords"
   ]
  },
  {
   "cell_type": "code",
   "execution_count": 7,
   "metadata": {},
   "outputs": [
    {
     "name": "stderr",
     "output_type": "stream",
     "text": [
      "[nltk_data] Downloading package punkt to\n",
      "[nltk_data]     C:\\Users\\rawat\\AppData\\Roaming\\nltk_data...\n",
      "[nltk_data]   Unzipping tokenizers\\punkt.zip.\n"
     ]
    }
   ],
   "source": [
    "# tokenzie this paragrame : this will convert the paragraph into sentances.\n",
    "nltk.download('punkt')\n",
    "sentances = nltk.sent_tokenize(paragraph)"
   ]
  },
  {
   "cell_type": "code",
   "execution_count": 8,
   "metadata": {},
   "outputs": [
    {
     "name": "stdout",
     "output_type": "stream",
     "text": [
      "['Narendra Damodardas Modi (Gujarati: [ˈnəɾendɾə dɑmodəɾˈdɑs ˈmodiː] ⓘ; born 17 September 1950)[b] is an Indian politician who has served as the 14th prime minister of India since May 2014.', 'Modi was the chief minister of Gujarat from 2001 to 2014 and is the Member of Parliament (MP) for Varanasi.', 'He is a member of the Bharatiya Janata Party (BJP) and of the Rashtriya Swayamsevak Sangh (RSS), a right wing Hindu nationalist paramilitary volunteer organisation.', 'He is the longest-serving prime minister from outside the Indian National Congress.', 'Modi was born and raised in Vadnagar in northeastern Gujarat, where he completed his secondary education.', 'He was introduced to the RSS at the age of eight.', 'His account of helping his father sell tea at the Vadnagar railway station has not been reliably corroborated.', 'At age 18, he was married to Jashodaben Modi, whom he abandoned soon after, only publicly acknowledging her four decades later when legally required to do so.', 'Modi became a full-time worker for the RSS in Gujarat in 1971.', 'The RSS assigned him to the BJP in 1985 and he held several positions within the party hierarchy until 2001, rising to the rank of general secretary.', '[c]']\n"
     ]
    }
   ],
   "source": [
    "print(sentances)"
   ]
  },
  {
   "cell_type": "code",
   "execution_count": 9,
   "metadata": {},
   "outputs": [
    {
     "data": {
      "text/plain": [
       "11"
      ]
     },
     "execution_count": 9,
     "metadata": {},
     "output_type": "execute_result"
    }
   ],
   "source": [
    "len(sentances)"
   ]
  },
  {
   "cell_type": "code",
   "execution_count": 16,
   "metadata": {},
   "outputs": [],
   "source": [
    "# lemmatization \n",
    "from nltk.stem import WordNetLemmatizer\n"
   ]
  },
  {
   "cell_type": "code",
   "execution_count": 27,
   "metadata": {},
   "outputs": [
    {
     "data": {
      "text/plain": [
       "'going'"
      ]
     },
     "execution_count": 27,
     "metadata": {},
     "output_type": "execute_result"
    }
   ],
   "source": [
    "# nltk.download('wordnet')\n",
    "lemmatizer = WordNetLemmatizer()\n",
    "lemmatizer.lemmatize('going')"
   ]
  },
  {
   "cell_type": "code",
   "execution_count": 71,
   "metadata": {},
   "outputs": [
    {
     "data": {
      "text/plain": [
       "['narendra damodardas modi  gujarati    n  end   d mod   d s  modi      born    september       b  is an indian politician who has served as the   th prime minister of india since may      ',\n",
       " 'modi was the chief minister of gujarat from      to      and is the member of parliament  mp  for varanasi ',\n",
       " 'he is a member of the bharatiya janata party  bjp  and of the rashtriya swayamsevak sangh  rss   a right wing hindu nationalist paramilitary volunteer organisation ',\n",
       " 'he is the longest serving prime minister from outside the indian national congress ',\n",
       " 'modi was born and raised in vadnagar in northeastern gujarat  where he completed his secondary education ',\n",
       " 'he was introduced to the rss at the age of eight ',\n",
       " 'his account of helping his father sell tea at the vadnagar railway station has not been reliably corroborated ',\n",
       " 'at age     he was married to jashodaben modi  whom he abandoned soon after  only publicly acknowledging her four decades later when legally required to do so ',\n",
       " 'modi became a full time worker for the rss in gujarat in      ',\n",
       " 'the rss assigned him to the bjp in      and he held several positions within the party hierarchy until       rising to the rank of general secretary ',\n",
       " ' c ']"
      ]
     },
     "execution_count": 71,
     "metadata": {},
     "output_type": "execute_result"
    }
   ],
   "source": [
    "import re\n",
    "\n",
    "corpus = []\n",
    "for i in range(len(sentances)):\n",
    "    review = re.sub(r'[^a-zA-Z]',' ',sentances[i])\n",
    "    review  = review.lower()\n",
    "    corpus.append(review)\n",
    "corpus"
   ]
  },
  {
   "cell_type": "code",
   "execution_count": 37,
   "metadata": {},
   "outputs": [
    {
     "data": {
      "text/plain": [
       "['narendra',\n",
       " 'damodardas',\n",
       " 'modi',\n",
       " 'gujarati',\n",
       " 'n',\n",
       " 'end',\n",
       " 'd',\n",
       " 'mod',\n",
       " 'd',\n",
       " 's',\n",
       " 'modi',\n",
       " 'born',\n",
       " 'september',\n",
       " 'b',\n",
       " 'is',\n",
       " 'an',\n",
       " 'indian',\n",
       " 'politician',\n",
       " 'who',\n",
       " 'has',\n",
       " 'served',\n",
       " 'as',\n",
       " 'the',\n",
       " 'th',\n",
       " 'prime',\n",
       " 'minister',\n",
       " 'of',\n",
       " 'india',\n",
       " 'since',\n",
       " 'may']"
      ]
     },
     "execution_count": 37,
     "metadata": {},
     "output_type": "execute_result"
    }
   ],
   "source": [
    "nltk.word_tokenize(corpus[0])"
   ]
  },
  {
   "cell_type": "code",
   "execution_count": 76,
   "metadata": {},
   "outputs": [],
   "source": [
    "stemmer = PorterStemmer()\n",
    "corp_list = []\n",
    "new_corp = []\n",
    "for doc in corpus:\n",
    "    # print(doc)\n",
    "    words = nltk.word_tokenize(doc)\n",
    "    # print(words)\n",
    "    for word in words:\n",
    "        corp_list.append(stemmer.stem(word))\n",
    "    \n",
    "    # print(corp_list)\n",
    "    new_corp.append(\" \".join(corp_list))\n",
    "    corp_list=[]"
   ]
  },
  {
   "cell_type": "code",
   "execution_count": 77,
   "metadata": {},
   "outputs": [
    {
     "data": {
      "text/plain": [
       "['narendra damodarda modi gujarati n end d mod d s modi born septemb b is an indian politician who ha serv as the th prime minist of india sinc may',\n",
       " 'modi wa the chief minist of gujarat from to and is the member of parliament mp for varanasi',\n",
       " 'he is a member of the bharatiya janata parti bjp and of the rashtriya swayamsevak sangh rss a right wing hindu nationalist paramilitari volunt organis',\n",
       " 'he is the longest serv prime minist from outsid the indian nation congress',\n",
       " 'modi wa born and rais in vadnagar in northeastern gujarat where he complet hi secondari educ',\n",
       " 'he wa introduc to the rss at the age of eight',\n",
       " 'hi account of help hi father sell tea at the vadnagar railway station ha not been reliabl corrobor',\n",
       " 'at age he wa marri to jashodaben modi whom he abandon soon after onli publicli acknowledg her four decad later when legal requir to do so',\n",
       " 'modi becam a full time worker for the rss in gujarat in',\n",
       " 'the rss assign him to the bjp in and he held sever posit within the parti hierarchi until rise to the rank of gener secretari',\n",
       " 'c']"
      ]
     },
     "execution_count": 77,
     "metadata": {},
     "output_type": "execute_result"
    }
   ],
   "source": [
    "new_corp"
   ]
  },
  {
   "cell_type": "code",
   "execution_count": 39,
   "metadata": {},
   "outputs": [],
   "source": [
    "from sklearn.feature_extraction.text import CountVectorizer\n",
    "cv = CountVectorizer()"
   ]
  },
  {
   "cell_type": "code",
   "execution_count": 78,
   "metadata": {},
   "outputs": [],
   "source": [
    "X = cv.fit_transform(new_corp)\n"
   ]
  },
  {
   "cell_type": "code",
   "execution_count": 79,
   "metadata": {},
   "outputs": [
    {
     "data": {
      "text/plain": [
       "{'narendra': 59,\n",
       " 'damodarda': 19,\n",
       " 'modi': 57,\n",
       " 'gujarati': 32,\n",
       " 'end': 24,\n",
       " 'mod': 56,\n",
       " 'born': 14,\n",
       " 'septemb': 88,\n",
       " 'is': 46,\n",
       " 'an': 5,\n",
       " 'indian': 44,\n",
       " 'politician': 71,\n",
       " 'who': 108,\n",
       " 'ha': 33,\n",
       " 'serv': 89,\n",
       " 'as': 7,\n",
       " 'the': 98,\n",
       " 'th': 97,\n",
       " 'prime': 73,\n",
       " 'minist': 55,\n",
       " 'of': 64,\n",
       " 'india': 43,\n",
       " 'sinc': 91,\n",
       " 'may': 53,\n",
       " 'wa': 105,\n",
       " 'chief': 15,\n",
       " 'gujarat': 31,\n",
       " 'from': 28,\n",
       " 'to': 100,\n",
       " 'and': 6,\n",
       " 'member': 54,\n",
       " 'parliament': 69,\n",
       " 'mp': 58,\n",
       " 'for': 26,\n",
       " 'varanasi': 103,\n",
       " 'he': 34,\n",
       " 'bharatiya': 12,\n",
       " 'janata': 47,\n",
       " 'parti': 70,\n",
       " 'bjp': 13,\n",
       " 'rashtriya': 78,\n",
       " 'swayamsevak': 95,\n",
       " 'sangh': 84,\n",
       " 'rss': 83,\n",
       " 'right': 81,\n",
       " 'wing': 110,\n",
       " 'hindu': 41,\n",
       " 'nationalist': 61,\n",
       " 'paramilitari': 68,\n",
       " 'volunt': 104,\n",
       " 'organis': 66,\n",
       " 'longest': 51,\n",
       " 'outsid': 67,\n",
       " 'nation': 60,\n",
       " 'congress': 17,\n",
       " 'rais': 76,\n",
       " 'in': 42,\n",
       " 'vadnagar': 102,\n",
       " 'northeastern': 62,\n",
       " 'where': 107,\n",
       " 'complet': 16,\n",
       " 'hi': 38,\n",
       " 'secondari': 85,\n",
       " 'educ': 22,\n",
       " 'introduc': 45,\n",
       " 'at': 9,\n",
       " 'age': 4,\n",
       " 'eight': 23,\n",
       " 'account': 1,\n",
       " 'help': 36,\n",
       " 'father': 25,\n",
       " 'sell': 87,\n",
       " 'tea': 96,\n",
       " 'railway': 75,\n",
       " 'station': 94,\n",
       " 'not': 63,\n",
       " 'been': 11,\n",
       " 'reliabl': 79,\n",
       " 'corrobor': 18,\n",
       " 'marri': 52,\n",
       " 'jashodaben': 48,\n",
       " 'whom': 109,\n",
       " 'abandon': 0,\n",
       " 'soon': 93,\n",
       " 'after': 3,\n",
       " 'onli': 65,\n",
       " 'publicli': 74,\n",
       " 'acknowledg': 2,\n",
       " 'her': 37,\n",
       " 'four': 27,\n",
       " 'decad': 20,\n",
       " 'later': 49,\n",
       " 'when': 106,\n",
       " 'legal': 50,\n",
       " 'requir': 80,\n",
       " 'do': 21,\n",
       " 'so': 92,\n",
       " 'becam': 10,\n",
       " 'full': 29,\n",
       " 'time': 99,\n",
       " 'worker': 112,\n",
       " 'assign': 8,\n",
       " 'him': 40,\n",
       " 'held': 35,\n",
       " 'sever': 90,\n",
       " 'posit': 72,\n",
       " 'within': 111,\n",
       " 'hierarchi': 39,\n",
       " 'until': 101,\n",
       " 'rise': 82,\n",
       " 'rank': 77,\n",
       " 'gener': 30,\n",
       " 'secretari': 86}"
      ]
     },
     "execution_count": 79,
     "metadata": {},
     "output_type": "execute_result"
    }
   ],
   "source": [
    "cv.vocabulary_"
   ]
  },
  {
   "cell_type": "code",
   "execution_count": 56,
   "metadata": {},
   "outputs": [
    {
     "data": {
      "text/plain": [
       "False"
      ]
     },
     "execution_count": 56,
     "metadata": {},
     "output_type": "execute_result"
    }
   ],
   "source": [
    "cv.fixed_vocabulary_"
   ]
  },
  {
   "cell_type": "code",
   "execution_count": 80,
   "metadata": {},
   "outputs": [
    {
     "data": {
      "text/plain": [
       "array([[0, 0, 0, ..., 0, 0, 0],\n",
       "       [0, 0, 0, ..., 0, 0, 0],\n",
       "       [0, 0, 0, ..., 1, 0, 0],\n",
       "       ...,\n",
       "       [0, 0, 0, ..., 0, 0, 1],\n",
       "       [0, 0, 0, ..., 0, 1, 0],\n",
       "       [0, 0, 0, ..., 0, 0, 0]], dtype=int64)"
      ]
     },
     "execution_count": 80,
     "metadata": {},
     "output_type": "execute_result"
    }
   ],
   "source": [
    "X.toarray()"
   ]
  },
  {
   "cell_type": "code",
   "execution_count": null,
   "metadata": {},
   "outputs": [],
   "source": []
  }
 ],
 "metadata": {
  "kernelspec": {
   "display_name": "Python 3",
   "language": "python",
   "name": "python3"
  },
  "language_info": {
   "codemirror_mode": {
    "name": "ipython",
    "version": 3
   },
   "file_extension": ".py",
   "mimetype": "text/x-python",
   "name": "python",
   "nbconvert_exporter": "python",
   "pygments_lexer": "ipython3",
   "version": "3.11.7"
  }
 },
 "nbformat": 4,
 "nbformat_minor": 2
}
